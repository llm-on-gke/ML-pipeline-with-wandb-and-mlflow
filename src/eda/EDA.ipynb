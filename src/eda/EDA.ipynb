{
 "cells": [
  {
   "cell_type": "code",
   "execution_count": 14,
   "source": [
    "import wandb\r\n",
    "import pandas as pd\r\n",
    "import yaml\r\n",
    "import logging"
   ],
   "outputs": [
    {
     "output_type": "display_data",
     "data": {
      "text/html": [
       "Finishing last run (ID:jgi3h75r) before initializing another..."
      ],
      "text/plain": [
       "<IPython.core.display.HTML object>"
      ]
     },
     "metadata": {}
    },
    {
     "output_type": "display_data",
     "data": {
      "text/html": [
       "<br/>Waiting for W&B process to finish, PID 31036<br/>Program ended successfully."
      ],
      "text/plain": [
       "<IPython.core.display.HTML object>"
      ]
     },
     "metadata": {}
    },
    {
     "output_type": "display_data",
     "data": {
      "application/vnd.jupyter.widget-view+json": {
       "version_major": 2,
       "version_minor": 0,
       "model_id": "ec75d48277e04601844979d5fb95bdc5"
      },
      "text/plain": [
       "VBox(children=(Label(value=' 0.00MB of 0.00MB uploaded (0.00MB deduped)\\r'), FloatProgress(value=1.0, max=1.0)…"
      ]
     },
     "metadata": {}
    },
    {
     "output_type": "display_data",
     "data": {
      "text/html": [
       "Find user logs for this run at: <code>c:\\Users\\philipp.schmalen\\OneDrive\\OneDrive - adviqo GmbH\\Projects\\Private\\Udacity ML devops engineer\\2 building a reproducible model\\Project build-model-workflow\\wandb\\run-20211002_080752-jgi3h75r\\logs\\debug.log</code>"
      ],
      "text/plain": [
       "<IPython.core.display.HTML object>"
      ]
     },
     "metadata": {}
    },
    {
     "output_type": "display_data",
     "data": {
      "text/html": [
       "Find internal logs for this run at: <code>c:\\Users\\philipp.schmalen\\OneDrive\\OneDrive - adviqo GmbH\\Projects\\Private\\Udacity ML devops engineer\\2 building a reproducible model\\Project build-model-workflow\\wandb\\run-20211002_080752-jgi3h75r\\logs\\debug-internal.log</code>"
      ],
      "text/plain": [
       "<IPython.core.display.HTML object>"
      ]
     },
     "metadata": {}
    },
    {
     "output_type": "display_data",
     "data": {
      "text/html": [
       "Synced 6 W&B file(s), 0 media file(s), 0 artifact file(s) and 0 other file(s)"
      ],
      "text/plain": [
       "<IPython.core.display.HTML object>"
      ]
     },
     "metadata": {}
    },
    {
     "output_type": "display_data",
     "data": {
      "text/html": [
       "\n",
       "                    <br/>Synced <strong style=\"color:#cdcd00\">easy-night-7</strong>: <a href=\"https://wandb.ai/philippschmalen/nyc_airbnb/runs/jgi3h75r\" target=\"_blank\">https://wandb.ai/philippschmalen/nyc_airbnb/runs/jgi3h75r</a><br/>\n",
       "                "
      ],
      "text/plain": [
       "<IPython.core.display.HTML object>"
      ]
     },
     "metadata": {}
    },
    {
     "output_type": "display_data",
     "data": {
      "text/html": [
       "...Successfully finished last run (ID:jgi3h75r). Initializing new run:<br/><br/>"
      ],
      "text/plain": [
       "<IPython.core.display.HTML object>"
      ]
     },
     "metadata": {}
    },
    {
     "output_type": "stream",
     "name": "stderr",
     "text": [
      "\u001b[34m\u001b[1mwandb\u001b[0m: wandb version 0.12.3 is available!  To upgrade, please run:\n",
      "\u001b[34m\u001b[1mwandb\u001b[0m:  $ pip install wandb --upgrade\n"
     ]
    },
    {
     "output_type": "display_data",
     "data": {
      "text/html": [
       "\n",
       "                Tracking run with wandb version 0.10.31<br/>\n",
       "                Syncing run <strong style=\"color:#cdcd00\">sleek-snowflake-8</strong> to <a href=\"https://wandb.ai\" target=\"_blank\">Weights & Biases</a> <a href=\"https://docs.wandb.com/integrations/jupyter.html\" target=\"_blank\">(Documentation)</a>.<br/>\n",
       "                Project page: <a href=\"https://wandb.ai/philippschmalen/nyc_airbnb\" target=\"_blank\">https://wandb.ai/philippschmalen/nyc_airbnb</a><br/>\n",
       "                Run page: <a href=\"https://wandb.ai/philippschmalen/nyc_airbnb/runs/2lgjae7y\" target=\"_blank\">https://wandb.ai/philippschmalen/nyc_airbnb/runs/2lgjae7y</a><br/>\n",
       "                Run data is saved locally in <code>c:\\Users\\philipp.schmalen\\OneDrive\\OneDrive - adviqo GmbH\\Projects\\Private\\Udacity ML devops engineer\\2 building a reproducible model\\Project build-model-workflow\\wandb\\run-20211002_081344-2lgjae7y</code><br/><br/>\n",
       "            "
      ],
      "text/plain": [
       "<IPython.core.display.HTML object>"
      ]
     },
     "metadata": {}
    }
   ],
   "metadata": {}
  },
  {
   "cell_type": "markdown",
   "source": [
    "## Get data artifact"
   ],
   "metadata": {}
  },
  {
   "cell_type": "code",
   "execution_count": 4,
   "source": [
    "import yaml\r\n",
    "import logging\r\n",
    "\r\n",
    "def get_credentials(filepath=\"../../credentials.yaml\"):\r\n",
    "    with open(filepath) as file:\r\n",
    "        credentials = yaml.safe_load(file)\r\n",
    "\r\n",
    "    logging.info(f\"Loaded credentials from {filepath} with keys {credentials.keys()}\")\r\n",
    "\r\n",
    "    return credentials"
   ],
   "outputs": [
    {
     "output_type": "execute_result",
     "data": {
      "text/plain": [
       "{'wandb': {'api_key': '04fdca427f3cb0c2f18da8a63dd0c1d1151435e5'}}"
      ]
     },
     "metadata": {},
     "execution_count": 4
    }
   ],
   "metadata": {}
  },
  {
   "cell_type": "code",
   "execution_count": null,
   "source": [
    "credentials = get_credentials()\r\n",
    "os.environ[\"WANDB_API_KEY\"] = credentials['wandb']['api_key']\r\n",
    "\r\n",
    "run = wandb.init(project=\"nyc_airbnb\", group=\"eda\", save_code=True)\r\n",
    "local_path = wandb.use_artifact(\"sample.csv:latest\").file()\r\n",
    "df_raw = pd.read_csv(local_path)"
   ],
   "outputs": [],
   "metadata": {}
  },
  {
   "cell_type": "markdown",
   "source": [
    "## Profiling"
   ],
   "metadata": {}
  },
  {
   "cell_type": "code",
   "execution_count": 3,
   "source": [
    "# pandas profiling\r\n",
    "profile = pandas_profiling.ProfileReport(df_raw)\r\n",
    "profile.to_file(\"src/eda/eda.html\")"
   ],
   "outputs": [
    {
     "output_type": "stream",
     "name": "stderr",
     "text": [
      "Summarize dataset: 100%|██████████| 30/30 [00:58<00:00,  1.95s/it, Completed]\n",
      "Generate report structure: 100%|██████████| 1/1 [00:13<00:00, 13.55s/it]\n",
      "Render HTML: 100%|██████████| 1/1 [00:06<00:00,  6.41s/it]\n",
      "Export report to file: 100%|██████████| 1/1 [00:00<00:00, 34.33it/s]\n"
     ]
    }
   ],
   "metadata": {}
  },
  {
   "cell_type": "markdown",
   "source": [
    "## Clean data"
   ],
   "metadata": {}
  },
  {
   "cell_type": "code",
   "execution_count": 18,
   "source": [
    "# data cleaning refactored\r\n",
    "df = (\r\n",
    "    df_raw\r\n",
    "    .loc[df_raw['price'].between(min_price, max_price)]  # Drop outliers\r\n",
    "    .assign(last_review=pd.to_datetime(df_raw['last_review']))  # datetime\r\n",
    ")\r\n",
    "\r\n",
    "run.finish()"
   ],
   "outputs": [
    {
     "output_type": "display_data",
     "data": {
      "text/html": [
       "<br/>Waiting for W&B process to finish, PID 28600<br/>Program ended successfully."
      ],
      "text/plain": [
       "<IPython.core.display.HTML object>"
      ]
     },
     "metadata": {}
    },
    {
     "output_type": "display_data",
     "data": {
      "application/vnd.jupyter.widget-view+json": {
       "version_major": 2,
       "version_minor": 0,
       "model_id": "6e7eada64eaf44a2a800a3db68b12bb5"
      },
      "text/plain": [
       "VBox(children=(Label(value=' 0.00MB of 0.00MB uploaded (0.00MB deduped)\\r'), FloatProgress(value=1.0, max=1.0)…"
      ]
     },
     "metadata": {}
    },
    {
     "output_type": "display_data",
     "data": {
      "text/html": [
       "Find user logs for this run at: <code>c:\\Users\\philipp.schmalen\\OneDrive\\OneDrive - adviqo GmbH\\Projects\\Private\\Udacity ML devops engineer\\2 building a reproducible model\\Project build-model-workflow\\wandb\\run-20211002_081344-2lgjae7y\\logs\\debug.log</code>"
      ],
      "text/plain": [
       "<IPython.core.display.HTML object>"
      ]
     },
     "metadata": {}
    },
    {
     "output_type": "display_data",
     "data": {
      "text/html": [
       "Find internal logs for this run at: <code>c:\\Users\\philipp.schmalen\\OneDrive\\OneDrive - adviqo GmbH\\Projects\\Private\\Udacity ML devops engineer\\2 building a reproducible model\\Project build-model-workflow\\wandb\\run-20211002_081344-2lgjae7y\\logs\\debug-internal.log</code>"
      ],
      "text/plain": [
       "<IPython.core.display.HTML object>"
      ]
     },
     "metadata": {}
    },
    {
     "output_type": "display_data",
     "data": {
      "text/html": [
       "Synced 7 W&B file(s), 0 media file(s), 0 artifact file(s) and 1 other file(s)"
      ],
      "text/plain": [
       "<IPython.core.display.HTML object>"
      ]
     },
     "metadata": {}
    },
    {
     "output_type": "display_data",
     "data": {
      "text/html": [
       "\n",
       "                    <br/>Synced <strong style=\"color:#cdcd00\">sleek-snowflake-8</strong>: <a href=\"https://wandb.ai/philippschmalen/nyc_airbnb/runs/2lgjae7y\" target=\"_blank\">https://wandb.ai/philippschmalen/nyc_airbnb/runs/2lgjae7y</a><br/>\n",
       "                "
      ],
      "text/plain": [
       "<IPython.core.display.HTML object>"
      ]
     },
     "metadata": {}
    }
   ],
   "metadata": {}
  }
 ],
 "metadata": {
  "kernelspec": {
   "name": "python3",
   "display_name": "Python 3.9.6 64-bit ('nyc_airbnb_dev': conda)"
  },
  "language_info": {
   "codemirror_mode": {
    "name": "ipython",
    "version": 3
   },
   "file_extension": ".py",
   "mimetype": "text/x-python",
   "name": "python",
   "nbconvert_exporter": "python",
   "pygments_lexer": "ipython3",
   "version": "3.9.6"
  },
  "interpreter": {
   "hash": "a3548d703b0a8f5c0b67044ebf644f1b70783cd2b831174bfa7bd8694c957aa5"
  }
 },
 "nbformat": 4,
 "nbformat_minor": 5
}