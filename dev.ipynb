{
 "cells": [
  {
   "cell_type": "code",
   "execution_count": 18,
   "source": [
    "import wandb\r\n",
    "import yaml\r\n",
    "\r\n",
    "\r\n",
    "\r\n",
    "\r\n",
    "    \r\n",
    "\r\n",
    "if __name__ == \"__main__\":\r\n",
    "    creds = get_credentials()\r\n",
    "    os.environ[\"WANDB_API_KEY\"] = creds['wandb']['api_key'] "
   ],
   "outputs": [],
   "metadata": {}
  }
 ],
 "metadata": {
  "orig_nbformat": 4,
  "language_info": {
   "name": "python",
   "version": "3.8.11",
   "mimetype": "text/x-python",
   "codemirror_mode": {
    "name": "ipython",
    "version": 3
   },
   "pygments_lexer": "ipython3",
   "nbconvert_exporter": "python",
   "file_extension": ".py"
  },
  "kernelspec": {
   "name": "python3",
   "display_name": "Python 3.8.11 64-bit ('mlops': conda)"
  },
  "interpreter": {
   "hash": "88adf3c79ba43fe010da6cf7fd8d4f1dfe6ee3515f7824a4f25b6bd307a9423f"
  }
 },
 "nbformat": 4,
 "nbformat_minor": 2
}