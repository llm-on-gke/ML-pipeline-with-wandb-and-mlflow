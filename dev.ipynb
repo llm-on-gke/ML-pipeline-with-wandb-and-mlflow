{
 "cells": [
  {
   "cell_type": "code",
   "execution_count": 2,
   "source": [
    "import os\r\n",
    "import wandb\r\n",
    "import yaml\r\n",
    "from main import get_credentials\r\n",
    "\r\n",
    "creds = get_credentials()\r\n",
    "\r\n",
    "with open('config.yaml', 'r') as f:\r\n",
    "    config = yaml.load(f, Loader=yaml.FullLoader)\r\n",
    "\r\n",
    "os.environ[\"WANDB_API_KEY\"] = creds['wandb']['api_key'] \r\n",
    "os.environ[\"WANDB_PROJECT\"] = config[\"main\"][\"project_name\"]\r\n",
    "os.environ[\"WANDB_RUN_GROUP\"] = config[\"main\"][\"experiment_name\"]\r\n",
    "\r\n",
    "run = wandb.init(job_type=\"test_model\")\r\n",
    "# run.config.update(args)\r\n",
    "\r\n",
    "\r\n",
    "# Download input artifact. This will also log that this script is using this\r\n",
    "# particular version of the artifact\r\n",
    "model_local_path = run.use_artifact(\"random_forest_export:latest\").download()\r\n",
    "model_local_path"
   ],
   "outputs": [
    {
     "output_type": "display_data",
     "data": {
      "text/html": [
       "Finishing last run (ID:6eb2404d) before initializing another..."
      ],
      "text/plain": [
       "<IPython.core.display.HTML object>"
      ]
     },
     "metadata": {}
    },
    {
     "output_type": "display_data",
     "data": {
      "text/html": [
       "<br/>Waiting for W&B process to finish, PID 19448<br/>Program ended successfully."
      ],
      "text/plain": [
       "<IPython.core.display.HTML object>"
      ]
     },
     "metadata": {}
    },
    {
     "output_type": "display_data",
     "data": {
      "application/vnd.jupyter.widget-view+json": {
       "version_major": 2,
       "version_minor": 0,
       "model_id": "637a79236cd546298a731723cf748a41"
      },
      "text/plain": [
       "VBox(children=(Label(value=' 0.00MB of 0.00MB uploaded (0.00MB deduped)\\r'), FloatProgress(value=1.0, max=1.0)…"
      ]
     },
     "metadata": {}
    },
    {
     "output_type": "display_data",
     "data": {
      "text/html": [
       "Find user logs for this run at: <code>c:\\Users\\philipp.schmalen\\OneDrive\\OneDrive - adviqo GmbH\\Projects\\Private\\Udacity ML devops engineer\\2 building a reproducible model\\Project build-model-workflow\\wandb\\run-20211005_065133-6eb2404d\\logs\\debug.log</code>"
      ],
      "text/plain": [
       "<IPython.core.display.HTML object>"
      ]
     },
     "metadata": {}
    },
    {
     "output_type": "display_data",
     "data": {
      "text/html": [
       "Find internal logs for this run at: <code>c:\\Users\\philipp.schmalen\\OneDrive\\OneDrive - adviqo GmbH\\Projects\\Private\\Udacity ML devops engineer\\2 building a reproducible model\\Project build-model-workflow\\wandb\\run-20211005_065133-6eb2404d\\logs\\debug-internal.log</code>"
      ],
      "text/plain": [
       "<IPython.core.display.HTML object>"
      ]
     },
     "metadata": {}
    },
    {
     "output_type": "display_data",
     "data": {
      "text/html": [
       "Synced 5 W&B file(s), 0 media file(s), 0 artifact file(s) and 0 other file(s)"
      ],
      "text/plain": [
       "<IPython.core.display.HTML object>"
      ]
     },
     "metadata": {}
    },
    {
     "output_type": "display_data",
     "data": {
      "text/html": [
       "\n",
       "                    <br/>Synced <strong style=\"color:#cdcd00\">trim-puddle-54</strong>: <a href=\"https://wandb.ai/philippschmalen/nyc_airbnb/runs/6eb2404d\" target=\"_blank\">https://wandb.ai/philippschmalen/nyc_airbnb/runs/6eb2404d</a><br/>\n",
       "                "
      ],
      "text/plain": [
       "<IPython.core.display.HTML object>"
      ]
     },
     "metadata": {}
    },
    {
     "output_type": "display_data",
     "data": {
      "text/html": [
       "...Successfully finished last run (ID:6eb2404d). Initializing new run:<br/><br/>"
      ],
      "text/plain": [
       "<IPython.core.display.HTML object>"
      ]
     },
     "metadata": {}
    },
    {
     "output_type": "stream",
     "name": "stderr",
     "text": [
      "\u001b[34m\u001b[1mwandb\u001b[0m: wandb version 0.12.4 is available!  To upgrade, please run:\n",
      "\u001b[34m\u001b[1mwandb\u001b[0m:  $ pip install wandb --upgrade\n"
     ]
    },
    {
     "output_type": "display_data",
     "data": {
      "text/html": [
       "\n",
       "                Tracking run with wandb version 0.11.2<br/>\n",
       "                Syncing run <strong style=\"color:#cdcd00\">visionary-feather-55</strong> to <a href=\"https://wandb.ai\" target=\"_blank\">Weights & Biases</a> <a href=\"https://docs.wandb.com/integrations/jupyter.html\" target=\"_blank\">(Documentation)</a>.<br/>\n",
       "                Project page: <a href=\"https://wandb.ai/philippschmalen/nyc_airbnb\" target=\"_blank\">https://wandb.ai/philippschmalen/nyc_airbnb</a><br/>\n",
       "                Run page: <a href=\"https://wandb.ai/philippschmalen/nyc_airbnb/runs/2h541ft8\" target=\"_blank\">https://wandb.ai/philippschmalen/nyc_airbnb/runs/2h541ft8</a><br/>\n",
       "                Run data is saved locally in <code>c:\\Users\\philipp.schmalen\\OneDrive\\OneDrive - adviqo GmbH\\Projects\\Private\\Udacity ML devops engineer\\2 building a reproducible model\\Project build-model-workflow\\wandb\\run-20211005_065204-2h541ft8</code><br/><br/>\n",
       "            "
      ],
      "text/plain": [
       "<IPython.core.display.HTML object>"
      ]
     },
     "metadata": {}
    },
    {
     "output_type": "execute_result",
     "data": {
      "text/plain": [
       "'.\\\\artifacts\\\\random_forest_export-v30'"
      ]
     },
     "metadata": {},
     "execution_count": 2
    }
   ],
   "metadata": {}
  }
 ],
 "metadata": {
  "orig_nbformat": 4,
  "language_info": {
   "name": "python",
   "version": "3.8.11",
   "mimetype": "text/x-python",
   "codemirror_mode": {
    "name": "ipython",
    "version": 3
   },
   "pygments_lexer": "ipython3",
   "nbconvert_exporter": "python",
   "file_extension": ".py"
  },
  "kernelspec": {
   "name": "python3",
   "display_name": "Python 3.8.11 64-bit ('mlops': conda)"
  },
  "interpreter": {
   "hash": "88adf3c79ba43fe010da6cf7fd8d4f1dfe6ee3515f7824a4f25b6bd307a9423f"
  }
 },
 "nbformat": 4,
 "nbformat_minor": 2
}